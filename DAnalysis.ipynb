{
 "cells": [
  {
   "cell_type": "code",
   "execution_count": 12,
   "id": "0dc895dc",
   "metadata": {},
   "outputs": [
    {
     "name": "stdout",
     "output_type": "stream",
     "text": [
      "                   date  product B  product C\n",
      "0   2020-02-01 00:00:00       1496       2332\n",
      "1   2020-09-01 00:00:00       1708        709\n",
      "2            16/01/2020       1484        564\n",
      "3            23/01/2020       1573        610\n",
      "4            30/01/2020       1867        718\n",
      "..                  ...        ...        ...\n",
      "66  2021-04-05 00:00:00       1686        486\n",
      "67  2021-10-05 00:00:00       1686        486\n",
      "68           17/05/2021       1526        644\n",
      "69           25/05/2021       1256        149\n",
      "70  2021-01-06 00:00:00        833        258\n",
      "\n",
      "[71 rows x 3 columns]\n"
     ]
    }
   ],
   "source": [
    "import pandas as pd\n",
    "import numpy as np\n",
    "import cufflinks as cf\n",
    "import chart_studio.plotly as py\n",
    "import plotly.tools as tls\n",
    "import plotly.offline as po\n",
    "import plotly.graph_objs as go\n",
    "\n",
    "dataset=pd.read_excel(\"C:/Users/DELL/Desktop/Analysis and Visualization Basics.xlsx\")\n",
    "dataset.head()\n",
    "print(dataset)"
   ]
  },
  {
   "cell_type": "code",
   "execution_count": 2,
   "id": "32bc225c",
   "metadata": {},
   "outputs": [
    {
     "data": {
      "text/html": [
       "<div>\n",
       "<style scoped>\n",
       "    .dataframe tbody tr th:only-of-type {\n",
       "        vertical-align: middle;\n",
       "    }\n",
       "\n",
       "    .dataframe tbody tr th {\n",
       "        vertical-align: top;\n",
       "    }\n",
       "\n",
       "    .dataframe thead th {\n",
       "        text-align: right;\n",
       "    }\n",
       "</style>\n",
       "<table border=\"1\" class=\"dataframe\">\n",
       "  <thead>\n",
       "    <tr style=\"text-align: right;\">\n",
       "      <th></th>\n",
       "      <th>product B</th>\n",
       "      <th>product C</th>\n",
       "    </tr>\n",
       "  </thead>\n",
       "  <tbody>\n",
       "    <tr>\n",
       "      <th>count</th>\n",
       "      <td>71.000000</td>\n",
       "      <td>71.000000</td>\n",
       "    </tr>\n",
       "    <tr>\n",
       "      <th>mean</th>\n",
       "      <td>2039.746479</td>\n",
       "      <td>508.281690</td>\n",
       "    </tr>\n",
       "    <tr>\n",
       "      <th>std</th>\n",
       "      <td>765.515265</td>\n",
       "      <td>291.676689</td>\n",
       "    </tr>\n",
       "    <tr>\n",
       "      <th>min</th>\n",
       "      <td>833.000000</td>\n",
       "      <td>119.000000</td>\n",
       "    </tr>\n",
       "    <tr>\n",
       "      <th>25%</th>\n",
       "      <td>1569.500000</td>\n",
       "      <td>328.500000</td>\n",
       "    </tr>\n",
       "    <tr>\n",
       "      <th>50%</th>\n",
       "      <td>1780.000000</td>\n",
       "      <td>520.000000</td>\n",
       "    </tr>\n",
       "    <tr>\n",
       "      <th>75%</th>\n",
       "      <td>2416.000000</td>\n",
       "      <td>662.000000</td>\n",
       "    </tr>\n",
       "    <tr>\n",
       "      <th>max</th>\n",
       "      <td>4204.000000</td>\n",
       "      <td>2332.000000</td>\n",
       "    </tr>\n",
       "  </tbody>\n",
       "</table>\n",
       "</div>"
      ],
      "text/plain": [
       "         product B    product C\n",
       "count    71.000000    71.000000\n",
       "mean   2039.746479   508.281690\n",
       "std     765.515265   291.676689\n",
       "min     833.000000   119.000000\n",
       "25%    1569.500000   328.500000\n",
       "50%    1780.000000   520.000000\n",
       "75%    2416.000000   662.000000\n",
       "max    4204.000000  2332.000000"
      ]
     },
     "execution_count": 2,
     "metadata": {},
     "output_type": "execute_result"
    }
   ],
   "source": [
    "dataset[['date','product B','product C']].describe()\n"
   ]
  },
  {
   "cell_type": "code",
   "execution_count": 3,
   "id": "9a245e59",
   "metadata": {},
   "outputs": [
    {
     "data": {
      "text/plain": [
       "3371"
      ]
     },
     "execution_count": 3,
     "metadata": {},
     "output_type": "execute_result"
    }
   ],
   "source": [
    "#range_productB\n",
    "dataset['product B'].max()-dataset['product B'].min()"
   ]
  },
  {
   "cell_type": "code",
   "execution_count": 4,
   "id": "0b45bcc4",
   "metadata": {},
   "outputs": [
    {
     "data": {
      "text/plain": [
       "2213"
      ]
     },
     "execution_count": 4,
     "metadata": {},
     "output_type": "execute_result"
    }
   ],
   "source": [
    "#range_productC\n",
    "dataset['product C'].max()-dataset['product C'].min()"
   ]
  },
  {
   "cell_type": "code",
   "execution_count": 5,
   "id": "d583c42f",
   "metadata": {},
   "outputs": [
    {
     "data": {
      "text/plain": [
       "586013.6205231387"
      ]
     },
     "execution_count": 5,
     "metadata": {},
     "output_type": "execute_result"
    }
   ],
   "source": [
    "#variance_productB\n",
    "dataset['product B'].var()"
   ]
  },
  {
   "cell_type": "code",
   "execution_count": 6,
   "id": "8b87d63f",
   "metadata": {},
   "outputs": [
    {
     "data": {
      "text/plain": [
       "85075.29094567405"
      ]
     },
     "execution_count": 6,
     "metadata": {},
     "output_type": "execute_result"
    }
   ],
   "source": [
    "#variance_productC\n",
    "dataset['product C'].var()"
   ]
  },
  {
   "cell_type": "code",
   "execution_count": 7,
   "id": "5af915e3",
   "metadata": {},
   "outputs": [
    {
     "data": {
      "text/plain": [
       "765.5152647224866"
      ]
     },
     "execution_count": 7,
     "metadata": {},
     "output_type": "execute_result"
    }
   ],
   "source": [
    "#squreRoot_productB\n",
    "import math\n",
    "from math import sqrt\n",
    "math.sqrt(dataset['product B'].var())"
   ]
  },
  {
   "cell_type": "code",
   "execution_count": 8,
   "id": "045f5004",
   "metadata": {},
   "outputs": [
    {
     "data": {
      "text/plain": [
       "291.67668906800566"
      ]
     },
     "execution_count": 8,
     "metadata": {},
     "output_type": "execute_result"
    }
   ],
   "source": [
    "#squreRoot_productB\n",
    "import math\n",
    "from math import sqrt\n",
    "math.sqrt(dataset['product C'].var())"
   ]
  },
  {
   "cell_type": "code",
   "execution_count": null,
   "id": "b99ef391",
   "metadata": {},
   "outputs": [],
   "source": []
  },
  {
   "cell_type": "code",
   "execution_count": null,
   "id": "0078fd64",
   "metadata": {},
   "outputs": [],
   "source": []
  }
 ],
 "metadata": {
  "kernelspec": {
   "display_name": "Python 3 (ipykernel)",
   "language": "python",
   "name": "python3"
  },
  "language_info": {
   "codemirror_mode": {
    "name": "ipython",
    "version": 3
   },
   "file_extension": ".py",
   "mimetype": "text/x-python",
   "name": "python",
   "nbconvert_exporter": "python",
   "pygments_lexer": "ipython3",
   "version": "3.9.0"
  }
 },
 "nbformat": 4,
 "nbformat_minor": 5
}
